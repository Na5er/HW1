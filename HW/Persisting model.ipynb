{
 "cells": [
  {
   "cell_type": "code",
   "execution_count": null,
   "id": "e664ed63",
   "metadata": {},
   "outputs": [],
   "source": [
    "import pandas as pd\n",
    "from sklearn.tree import DecisionTreeClassifier\n",
    "from sklearn.externals import joblib \n",
    "\n",
    "\n",
    "# anime_data = pd.read_csv('anime.csv')\n",
    "# x = anime_data.drop(columns = ['Category'])\n",
    "# y = anime_data['Category']\n",
    "\n",
    "# model = DecisionTreeClassifier()\n",
    "# model.fit(x, y)\n",
    "\n",
    "# model = joblib.load(model, 'anime-recommender.joblib')  \n",
    "model = joblib.dump('anime-recommender.joblib')\n",
    "predictions = model.predict([[22, 0]])\n",
    "predictions"
   ]
  }
 ],
 "metadata": {
  "kernelspec": {
   "display_name": "Python 3 (ipykernel)",
   "language": "python",
   "name": "python3"
  },
  "language_info": {
   "codemirror_mode": {
    "name": "ipython",
    "version": 3
   },
   "file_extension": ".py",
   "mimetype": "text/x-python",
   "name": "python",
   "nbconvert_exporter": "python",
   "pygments_lexer": "ipython3",
   "version": "3.9.13"
  }
 },
 "nbformat": 4,
 "nbformat_minor": 5
}
